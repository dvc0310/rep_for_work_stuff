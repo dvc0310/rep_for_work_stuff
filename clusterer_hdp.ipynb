{
 "cells": [
  {
   "cell_type": "code",
   "execution_count": null,
   "metadata": {},
   "outputs": [],
   "source": [
    "import pandas as pd\n",
    "from gensim import corpora\n",
    "from gensim.models import HdpModel\n",
    "from tqdm import tqdm\n"
   ]
  },
  {
   "cell_type": "code",
   "execution_count": null,
   "metadata": {},
   "outputs": [],
   "source": [
    "df = pd.read_csv('report_edited.csv', encoding='latin1')\n"
   ]
  },
  {
   "cell_type": "code",
   "execution_count": null,
   "metadata": {},
   "outputs": [],
   "source": [
    "excluded_terms = ['verizon', 'att', 'comcast', 'centurylink', 'telco']\n",
    "def preprocess_text(text, excluded_terms):\n",
    "    # Convert to lowercase, remove punctuation, etc. (existing preprocessing steps)\n",
    "    if not isinstance(text, str):\n",
    "        text = str(text)\n",
    "    # Exclude specific terms\n",
    "    tokens = text.split()\n",
    "    tokens = [word for word in tokens if word.lower() not in excluded_terms]\n",
    "    \n",
    "    # Continue with any further preprocessing like lemmatization, etc.\n",
    "    return ' '.join(tokens)\n",
    "\n",
    "# Apply preprocessing to your text data\n",
    "df['processed_text'] = df['processed_text'].apply(lambda x: preprocess_text(x, excluded_terms))\n"
   ]
  },
  {
   "cell_type": "code",
   "execution_count": null,
   "metadata": {},
   "outputs": [],
   "source": [
    "# Create a Gensim Dictionary and Corpus\n",
    "texts = [text.split() for text in df['processed_text']]\n",
    "dictionary = corpora.Dictionary(texts)\n",
    "corpus = [dictionary.doc2bow(text) for text in tqdm(texts)]\n",
    "\n",
    "\n"
   ]
  },
  {
   "cell_type": "code",
   "execution_count": null,
   "metadata": {},
   "outputs": [],
   "source": [
    "# Apply the HDP model\n",
    "hdp = HdpModel(corpus, id2word=dictionary)"
   ]
  },
  {
   "cell_type": "code",
   "execution_count": null,
   "metadata": {},
   "outputs": [],
   "source": [
    "# To see the topics\n",
    "for i, topic in enumerate(hdp.print_topics(num_topics=10, num_words=10)):\n",
    "    print(f'Topic {i}: {topic}')"
   ]
  }
 ],
 "metadata": {
  "kernelspec": {
   "display_name": "Python 3",
   "language": "python",
   "name": "python3"
  },
  "language_info": {
   "codemirror_mode": {
    "name": "ipython",
    "version": 3
   },
   "file_extension": ".py",
   "mimetype": "text/x-python",
   "name": "python",
   "nbconvert_exporter": "python",
   "pygments_lexer": "ipython3",
   "version": "3.9.6"
  }
 },
 "nbformat": 4,
 "nbformat_minor": 2
}
