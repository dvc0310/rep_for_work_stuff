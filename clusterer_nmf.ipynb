{
 "cells": [
  {
   "cell_type": "code",
   "execution_count": 1,
   "metadata": {},
   "outputs": [],
   "source": [
    "import pandas as pd\n",
    "import numpy as np"
   ]
  },
  {
   "cell_type": "code",
   "execution_count": 2,
   "metadata": {},
   "outputs": [
    {
     "name": "stderr",
     "output_type": "stream",
     "text": [
      "/var/folders/5b/zr381m555nndpqxs7__k9sv40000gq/T/ipykernel_733/2122878804.py:1: DtypeWarning: Columns (14) have mixed types. Specify dtype option on import or set low_memory=False.\n",
      "  df = pd.read_csv('report_edited.csv', encoding='latin1')\n"
     ]
    }
   ],
   "source": [
    "df = pd.read_csv('report_edited.csv', encoding='latin1')\n"
   ]
  },
  {
   "cell_type": "code",
   "execution_count": 15,
   "metadata": {},
   "outputs": [],
   "source": [
    "excluded_terms = ['verizon', 'att', 'comcast', 'centurylink', 'telco']\n",
    "def preprocess_text(text, excluded_terms):\n",
    "    # Convert to lowercase, remove punctuation, etc. (existing preprocessing steps)\n",
    "\n",
    "    # Exclude specific terms\n",
    "    tokens = text.split()\n",
    "    tokens = [word for word in tokens if word.lower() not in excluded_terms]\n",
    "    \n",
    "    # Continue with any further preprocessing like lemmatization, etc.\n",
    "    return ' '.join(tokens)\n",
    "\n",
    "# Apply preprocessing to your text data\n",
    "df['processed_text'] = df['processed_text'].apply(lambda x: preprocess_text(x, excluded_terms))\n"
   ]
  },
  {
   "cell_type": "code",
   "execution_count": 16,
   "metadata": {},
   "outputs": [
    {
     "data": {
      "text/html": [
       "<style>#sk-container-id-3 {color: black;}#sk-container-id-3 pre{padding: 0;}#sk-container-id-3 div.sk-toggleable {background-color: white;}#sk-container-id-3 label.sk-toggleable__label {cursor: pointer;display: block;width: 100%;margin-bottom: 0;padding: 0.3em;box-sizing: border-box;text-align: center;}#sk-container-id-3 label.sk-toggleable__label-arrow:before {content: \"▸\";float: left;margin-right: 0.25em;color: #696969;}#sk-container-id-3 label.sk-toggleable__label-arrow:hover:before {color: black;}#sk-container-id-3 div.sk-estimator:hover label.sk-toggleable__label-arrow:before {color: black;}#sk-container-id-3 div.sk-toggleable__content {max-height: 0;max-width: 0;overflow: hidden;text-align: left;background-color: #f0f8ff;}#sk-container-id-3 div.sk-toggleable__content pre {margin: 0.2em;color: black;border-radius: 0.25em;background-color: #f0f8ff;}#sk-container-id-3 input.sk-toggleable__control:checked~div.sk-toggleable__content {max-height: 200px;max-width: 100%;overflow: auto;}#sk-container-id-3 input.sk-toggleable__control:checked~label.sk-toggleable__label-arrow:before {content: \"▾\";}#sk-container-id-3 div.sk-estimator input.sk-toggleable__control:checked~label.sk-toggleable__label {background-color: #d4ebff;}#sk-container-id-3 div.sk-label input.sk-toggleable__control:checked~label.sk-toggleable__label {background-color: #d4ebff;}#sk-container-id-3 input.sk-hidden--visually {border: 0;clip: rect(1px 1px 1px 1px);clip: rect(1px, 1px, 1px, 1px);height: 1px;margin: -1px;overflow: hidden;padding: 0;position: absolute;width: 1px;}#sk-container-id-3 div.sk-estimator {font-family: monospace;background-color: #f0f8ff;border: 1px dotted black;border-radius: 0.25em;box-sizing: border-box;margin-bottom: 0.5em;}#sk-container-id-3 div.sk-estimator:hover {background-color: #d4ebff;}#sk-container-id-3 div.sk-parallel-item::after {content: \"\";width: 100%;border-bottom: 1px solid gray;flex-grow: 1;}#sk-container-id-3 div.sk-label:hover label.sk-toggleable__label {background-color: #d4ebff;}#sk-container-id-3 div.sk-serial::before {content: \"\";position: absolute;border-left: 1px solid gray;box-sizing: border-box;top: 0;bottom: 0;left: 50%;z-index: 0;}#sk-container-id-3 div.sk-serial {display: flex;flex-direction: column;align-items: center;background-color: white;padding-right: 0.2em;padding-left: 0.2em;position: relative;}#sk-container-id-3 div.sk-item {position: relative;z-index: 1;}#sk-container-id-3 div.sk-parallel {display: flex;align-items: stretch;justify-content: center;background-color: white;position: relative;}#sk-container-id-3 div.sk-item::before, #sk-container-id-3 div.sk-parallel-item::before {content: \"\";position: absolute;border-left: 1px solid gray;box-sizing: border-box;top: 0;bottom: 0;left: 50%;z-index: -1;}#sk-container-id-3 div.sk-parallel-item {display: flex;flex-direction: column;z-index: 1;position: relative;background-color: white;}#sk-container-id-3 div.sk-parallel-item:first-child::after {align-self: flex-end;width: 50%;}#sk-container-id-3 div.sk-parallel-item:last-child::after {align-self: flex-start;width: 50%;}#sk-container-id-3 div.sk-parallel-item:only-child::after {width: 0;}#sk-container-id-3 div.sk-dashed-wrapped {border: 1px dashed gray;margin: 0 0.4em 0.5em 0.4em;box-sizing: border-box;padding-bottom: 0.4em;background-color: white;}#sk-container-id-3 div.sk-label label {font-family: monospace;font-weight: bold;display: inline-block;line-height: 1.2em;}#sk-container-id-3 div.sk-label-container {text-align: center;}#sk-container-id-3 div.sk-container {/* jupyter's `normalize.less` sets `[hidden] { display: none; }` but bootstrap.min.css set `[hidden] { display: none !important; }` so we also need the `!important` here to be able to override the default hidden behavior on the sphinx rendered scikit-learn.org. See: https://github.com/scikit-learn/scikit-learn/issues/21755 */display: inline-block !important;position: relative;}#sk-container-id-3 div.sk-text-repr-fallback {display: none;}</style><div id=\"sk-container-id-3\" class=\"sk-top-container\"><div class=\"sk-text-repr-fallback\"><pre>NMF(n_components=10, random_state=0)</pre><b>In a Jupyter environment, please rerun this cell to show the HTML representation or trust the notebook. <br />On GitHub, the HTML representation is unable to render, please try loading this page with nbviewer.org.</b></div><div class=\"sk-container\" hidden><div class=\"sk-item\"><div class=\"sk-estimator sk-toggleable\"><input class=\"sk-toggleable__control sk-hidden--visually\" id=\"sk-estimator-id-3\" type=\"checkbox\" checked><label for=\"sk-estimator-id-3\" class=\"sk-toggleable__label sk-toggleable__label-arrow\">NMF</label><div class=\"sk-toggleable__content\"><pre>NMF(n_components=10, random_state=0)</pre></div></div></div></div></div>"
      ],
      "text/plain": [
       "NMF(n_components=10, random_state=0)"
      ]
     },
     "execution_count": 16,
     "metadata": {},
     "output_type": "execute_result"
    }
   ],
   "source": [
    "from sklearn.decomposition import NMF\n",
    "from sklearn.feature_extraction.text import TfidfVectorizer\n",
    "# Remove rows where 'processed_text' is NaN\n",
    "df = df.dropna(subset=['processed_text'])\n",
    "# Use TF-IDF for vectorization\n",
    "tfidf_vectorizer = TfidfVectorizer(max_features=10000)  # Adjust max_features\n",
    "X = tfidf_vectorizer.fit_transform(df['processed_text'])\n",
    "\n",
    "# Apply NMF\n",
    "nmf = NMF(n_components=10, random_state=0)  # Adjust n_components (topics)\n",
    "nmf.fit(X)"
   ]
  },
  {
   "cell_type": "code",
   "execution_count": 5,
   "metadata": {},
   "outputs": [],
   "source": [
    "def display_topics(model, feature_names, no_top_words):\n",
    "    for topic_idx, topic in enumerate(model.components_):\n",
    "        print(\"Topic %d:\" % (topic_idx))\n",
    "        print(\" \".join([feature_names[i] for i in topic.argsort()[:-no_top_words - 1:-1]]))\n",
    "\n"
   ]
  },
  {
   "cell_type": "code",
   "execution_count": 18,
   "metadata": {},
   "outputs": [
    {
     "name": "stdout",
     "output_type": "stream",
     "text": [
      "Topic 0:\n",
      "utc reported circuit outage transport signal beginning ntnoc system level cause center ffcc national loss problem operation issue network new oc power affected card cleared\n",
      "Topic 1:\n",
      "cell backhaul engineer interruption region notified service investigated discovered caused failed fiber damaged tower alarm monitored online commercial aware became detection came power back restore\n",
      "Topic 2:\n",
      "wireless site voip network cdma due cell wdfcc one macro service msc serving fiber outage incident caused operation isolated within cut reported center backhaul router\n",
      "Topic 3:\n",
      "path protect switched event working oc affected customer causing condition simplex card service ongoing issue multiplexer unknown failed failure outage cause time detected protected capable\n",
      "Topic 4:\n",
      "planned maintenance activity affecting upgrade service performing performed impacted engineer region metro ethernet interconnected network completed voip restoring may backhaul cell scheduled customer crq work\n",
      "Topic 5:\n",
      "telco site peak voice local market affected loss experienced traffic issue due customer transport network power service severe weather impaired commercial damaged equipment fiber resulted\n",
      "Topic 6:\n",
      "customer report trouble circuit issue tsp referred proved isolation troubleshooting network received opened effort fault back technician restorative took action engaged level necessary protocol initiated\n",
      "Topic 7:\n",
      "metro ethernet commercial power andor interrupted backup engineer interruption premise investigated region found customer network service notified discovered residential weather failed intrastate inclement caused outage\n",
      "Topic 8:\n",
      "sonet simplex multiplexer carrier optical engaged oc troubleshooting technical initiated protocol necessary card inc state entered failure duplex result defective ddm isolated restored ring faulty\n",
      "Topic 9:\n",
      "cable fiber outage detected investigate cause damaged copper cut pair indicating surveillance area service noc alarm created dispatched ticket eit network damage loss due technician\n"
     ]
    }
   ],
   "source": [
    "no_top_words = 25 # Number of top words to display for each topic\n",
    "display_topics(nmf, tfidf_vectorizer.get_feature_names_out(), no_top_words)"
   ]
  }
 ],
 "metadata": {
  "kernelspec": {
   "display_name": "Python 3",
   "language": "python",
   "name": "python3"
  },
  "language_info": {
   "codemirror_mode": {
    "name": "ipython",
    "version": 3
   },
   "file_extension": ".py",
   "mimetype": "text/x-python",
   "name": "python",
   "nbconvert_exporter": "python",
   "pygments_lexer": "ipython3",
   "version": "3.9.6"
  }
 },
 "nbformat": 4,
 "nbformat_minor": 2
}
