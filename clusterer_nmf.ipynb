{
 "cells": [
  {
   "cell_type": "code",
   "execution_count": null,
   "metadata": {},
   "outputs": [],
   "source": [
    "import pandas as pd\n",
    "import numpy as np"
   ]
  },
  {
   "cell_type": "code",
   "execution_count": null,
   "metadata": {},
   "outputs": [],
   "source": [
    "df = pd.read_csv('report_edited.csv', encoding='latin1')\n"
   ]
  },
  {
   "cell_type": "code",
   "execution_count": null,
   "metadata": {},
   "outputs": [],
   "source": [
    "excluded_terms = ['verizon', 'att', 'comcast', 'centurylink', 'telco']\n",
    "def preprocess_text(text, excluded_terms):\n",
    "    # Convert to lowercase, remove punctuation, etc. (existing preprocessing steps)\n",
    "    if not isinstance(text, str):\n",
    "        text = str(text)\n",
    "    # Exclude specific terms\n",
    "    tokens = text.split()\n",
    "    tokens = [word for word in tokens if word.lower() not in excluded_terms]\n",
    "    \n",
    "    # Continue with any further preprocessing like lemmatization, etc.\n",
    "    return ' '.join(tokens)\n",
    "\n",
    "# Apply preprocessing to your text data\n",
    "df['processed_text'] = df['processed_text'].apply(lambda x: preprocess_text(x, excluded_terms))\n"
   ]
  },
  {
   "cell_type": "code",
   "execution_count": null,
   "metadata": {},
   "outputs": [],
   "source": [
    "from sklearn.decomposition import NMF\n",
    "from sklearn.feature_extraction.text import TfidfVectorizer\n",
    "# Remove rows where 'processed_text' is NaN\n",
    "df = df.dropna(subset=['processed_text'])\n",
    "# Use TF-IDF for vectorization\n",
    "tfidf_vectorizer = TfidfVectorizer(max_features=10000)  # Adjust max_features\n",
    "X = tfidf_vectorizer.fit_transform(df['processed_text'])\n",
    "\n",
    "# Apply NMF\n",
    "nmf = NMF(n_components=10, random_state=0)  # Adjust n_components (topics)\n",
    "nmf.fit(X)"
   ]
  },
  {
   "cell_type": "code",
   "execution_count": null,
   "metadata": {},
   "outputs": [],
   "source": [
    "def display_topics(model, feature_names, no_top_words):\n",
    "    for topic_idx, topic in enumerate(model.components_):\n",
    "        print(\"Topic %d:\" % (topic_idx))\n",
    "        print(\" \".join([feature_names[i] for i in topic.argsort()[:-no_top_words - 1:-1]]))\n",
    "\n"
   ]
  },
  {
   "cell_type": "code",
   "execution_count": null,
   "metadata": {},
   "outputs": [],
   "source": [
    "no_top_words = 25 # Number of top words to display for each topic\n",
    "display_topics(nmf, tfidf_vectorizer.get_feature_names_out(), no_top_words)"
   ]
  },
  {
   "cell_type": "code",
   "execution_count": null,
   "metadata": {},
   "outputs": [],
   "source": [
    "import numpy as np\n",
    "\n",
    "# Assuming 'nmf' is your fitted NMF model and 'tfidf' is your vectorized data\n",
    "nmf_topic_values = nmf.transform(X)\n",
    "\n",
    "# Get the dominant topic for each document\n",
    "dominant_topics = np.argmax(nmf_topic_values, axis=1)\n"
   ]
  },
  {
   "cell_type": "code",
   "execution_count": null,
   "metadata": {},
   "outputs": [],
   "source": [
    "df['Dominant_Topic'] = dominant_topics\n",
    "df.head()"
   ]
  },
  {
   "cell_type": "code",
   "execution_count": null,
   "metadata": {},
   "outputs": [],
   "source": [
    "df.to_csv('report_with_topics.csv', index=False)\n"
   ]
  }
 ],
 "metadata": {
  "kernelspec": {
   "display_name": "Python 3",
   "language": "python",
   "name": "python3"
  },
  "language_info": {
   "codemirror_mode": {
    "name": "ipython",
    "version": 3
   },
   "file_extension": ".py",
   "mimetype": "text/x-python",
   "name": "python",
   "nbconvert_exporter": "python",
   "pygments_lexer": "ipython3",
   "version": "3.9.6"
  }
 },
 "nbformat": 4,
 "nbformat_minor": 2
}
