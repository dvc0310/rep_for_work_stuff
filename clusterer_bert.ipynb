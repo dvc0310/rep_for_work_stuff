{
 "cells": [
  {
   "cell_type": "code",
   "execution_count": null,
   "metadata": {},
   "outputs": [],
   "source": [
    "import pandas as pd\n",
    "import numpy as np\n",
    "from bertopic import BERTopic\n"
   ]
  },
  {
   "cell_type": "code",
   "execution_count": null,
   "metadata": {},
   "outputs": [],
   "source": [
    "df = pd.read_csv('report_edited.csv', encoding='latin1')\n"
   ]
  },
  {
   "cell_type": "code",
   "execution_count": null,
   "metadata": {},
   "outputs": [],
   "source": [
    "excluded_terms = ['verizon', 'att', 'comcast', 'centurylink', 'telco']\n",
    "def preprocess_text(text, excluded_terms):\n",
    "    # Convert to lowercase, remove punctuation, etc. (existing preprocessing steps)\n",
    "    if not isinstance(text, str):\n",
    "        text = str(text)\n",
    "    # Exclude specific terms\n",
    "    tokens = text.split()\n",
    "    tokens = [word for word in tokens if word.lower() not in excluded_terms]\n",
    "    \n",
    "    # Continue with any further preprocessing like lemmatization, etc.\n",
    "    return ' '.join(tokens)\n",
    "\n",
    "# Apply preprocessing to your text data\n",
    "df['processed_text'] = df['processed_text'].apply(lambda x: preprocess_text(x, excluded_terms))\n"
   ]
  },
  {
   "cell_type": "code",
   "execution_count": null,
   "metadata": {},
   "outputs": [],
   "source": [
    "# Ensure the text data is in string format\n",
    "documents = df['processed_text'].astype(str).tolist()\n"
   ]
  },
  {
   "cell_type": "code",
   "execution_count": null,
   "metadata": {},
   "outputs": [],
   "source": [
    "model = BERTopic()\n",
    "topics, probabilities = model.fit_transform(documents)\n"
   ]
  },
  {
   "cell_type": "code",
   "execution_count": null,
   "metadata": {},
   "outputs": [],
   "source": [
    "# Retrieve the most frequent topics\n",
    "model.get_topic_freq().head()\n",
    "\n",
    "# Retrieve the topics and their keywords\n",
    "for topic in model.get_topics():\n",
    "    print(topic, model.get_topic(topic))\n",
    "\n",
    "\n"
   ]
  },
  {
   "cell_type": "code",
   "execution_count": null,
   "metadata": {},
   "outputs": [],
   "source": [
    "# Visualize topics\n",
    "model.visualize_topics()\n",
    "\n",
    "# Visualize topic probabilities\n",
    "model.visualize_distribution(probabilities[0])  # Visualize for the first document\n"
   ]
  },
  {
   "cell_type": "code",
   "execution_count": null,
   "metadata": {},
   "outputs": [],
   "source": [
    "df['Topic'] = topics\n",
    "df.head()"
   ]
  },
  {
   "cell_type": "code",
   "execution_count": null,
   "metadata": {},
   "outputs": [],
   "source": [
    "df.to_csv('bert.csv', index=False)\n"
   ]
  }
 ],
 "metadata": {
  "kernelspec": {
   "display_name": "Python 3",
   "language": "python",
   "name": "python3"
  },
  "language_info": {
   "codemirror_mode": {
    "name": "ipython",
    "version": 3
   },
   "file_extension": ".py",
   "mimetype": "text/x-python",
   "name": "python",
   "nbconvert_exporter": "python",
   "pygments_lexer": "ipython3",
   "version": "3.9.6"
  }
 },
 "nbformat": 4,
 "nbformat_minor": 2
}
